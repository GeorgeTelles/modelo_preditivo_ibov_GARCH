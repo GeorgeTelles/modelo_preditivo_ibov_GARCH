{
  "nbformat": 4,
  "nbformat_minor": 0,
  "metadata": {
    "colab": {
      "provenance": [],
      "include_colab_link": true
    },
    "kernelspec": {
      "name": "python3",
      "display_name": "Python 3"
    },
    "language_info": {
      "name": "python"
    }
  },
  "cells": [
    {
      "cell_type": "markdown",
      "metadata": {
        "id": "view-in-github",
        "colab_type": "text"
      },
      "source": [
        "<a href=\"https://colab.research.google.com/github/GeorgeTelles/modelo_preditivo_ibov_GARCH/blob/main/Previs%C3%A3o_Volatilidade_GARCH.ipynb\" target=\"_parent\"><img src=\"https://colab.research.google.com/assets/colab-badge.svg\" alt=\"Open In Colab\"/></a>"
      ]
    },
    {
      "cell_type": "markdown",
      "source": [
        "<div>\n",
        "  <img src=\"https://raw.githubusercontent.com/GeorgeTelles/georgetelles/f69531ec6b293b5148563588a764c010015d315e/logo_clara.png\" alt=\"logo clara\" width=\"300\" style=\"display: inline-block; vertical-align: top; margin-right: 10px;\">\n",
        "  <img src=\"https://raw.githubusercontent.com/GeorgeTelles/georgetelles/f69531ec6b293b5148563588a764c010015d315e/logo_dark.png\" alt=\"logo dark\" width=\"300\" style=\"display: inline-block; vertical-align: top;\">\n",
        "</div>"
      ],
      "metadata": {
        "id": "BZVC5WJQ7FME"
      }
    },
    {
      "cell_type": "markdown",
      "source": [
        "# Prevendo a Volatilidade do IBOV\n",
        "\n",
        "Este projeto tem como objetivo prever a volatilidade do Índice Bovespa (IBOV) utilizando o modelo GARCH (Generalized AutoRegressive Conditional Heteroskedasticity). O modelo GARCH é amplamente utilizado em finanças para modelar e prever a volatilidade dos retornos de ativos financeiros.\n",
        "\n",
        "## Sobre o Projeto\n",
        "\n",
        "O IBOV é um dos principais índices de mercado de ações no Brasil e sua volatilidade é uma métrica importante para investidores e analistas financeiros. A volatilidade reflete a variação dos retornos de um ativo e pode fornecer insights valiosos sobre o risco e a dinâmica do mercado.\n",
        "\n",
        "Para prever essa volatilidade, o projeto utiliza o modelo GARCH, que é uma extensão do modelo ARCH (AutoRegressive Conditional Heteroskedasticity). O GARCH é projetado para modelar séries temporais onde a variância dos erros não é constante ao longo do tempo, mas sim depende das variâncias passadas.\n",
        "\n",
        "## Funcionalidades\n",
        "\n",
        "- **Coleta de Dados:** Importação de dados históricos do IBOV para análise. O projeto pode utilizar APIs financeiras ou datasets disponíveis publicamente.\n",
        "- **Pré-processamento de Dados:** Limpeza e preparação dos dados para a modelagem. Isso inclui a normalização dos retornos e a remoção de outliers.\n",
        "- **Modelagem GARCH:** Implementação do modelo GARCH para prever a volatilidade. O projeto utiliza a biblioteca `arch` ou outras ferramentas semelhantes em Python.\n",
        "- **Avaliação do Modelo:** Avaliação da precisão das previsões de volatilidade utilizando métricas adequadas. Comparação dos resultados com dados históricos para validar o modelo.\n",
        "- **Visualização:** Geração de gráficos e relatórios para visualizar as previsões de volatilidade e analisar os resultados.\n",
        "\n",
        "## Tecnologias e Bibliotecas Utilizadas\n",
        "\n",
        "- **Python:** Linguagem de programação principal.\n",
        "- **pandas e numpy:** Manipulação e análise de dados.\n",
        "- **arch:** Biblioteca para modelagem GARCH e outras técnicas de volatilidade.\n",
        "- **matplotlib e seaborn:** Visualização de dados e resultados.\n"
      ],
      "metadata": {
        "id": "T1-yRDd87BEE"
      }
    },
    {
      "cell_type": "code",
      "source": [
        "!pip install arch"
      ],
      "metadata": {
        "id": "pYcBkIHvujpj"
      },
      "execution_count": null,
      "outputs": []
    },
    {
      "cell_type": "code",
      "execution_count": null,
      "metadata": {
        "id": "mKmC7_SoOG7s"
      },
      "outputs": [],
      "source": [
        "import numpy as np\n",
        "import pandas as pd\n",
        "import yfinance as yf\n",
        "from arch import arch_model\n",
        "import matplotlib.pyplot as plt\n",
        "import warnings\n",
        "warnings.filterwarnings('ignore')\n",
        "import plotly.graph_objects as go"
      ]
    },
    {
      "cell_type": "markdown",
      "source": [
        "Obtendo dados do IBOV"
      ],
      "metadata": {
        "id": "BLefNO3H7VuJ"
      }
    },
    {
      "cell_type": "code",
      "source": [
        "ibov = yf.download('^BVSP', start='2018-01-01', end='2024-08-01')\n",
        "ibov"
      ],
      "metadata": {
        "id": "6vJ7yj0xuY1S"
      },
      "execution_count": null,
      "outputs": []
    },
    {
      "cell_type": "markdown",
      "source": [
        "##Relação entre Retorno e Volatilidade"
      ],
      "metadata": {
        "id": "MdOhnL4plHwN"
      }
    },
    {
      "cell_type": "code",
      "source": [
        "#Calculando retornos\n",
        "\n",
        "ibov['log_retornos'] = np.log(ibov['Adj Close'].pct_change()+1)*100"
      ],
      "metadata": {
        "id": "h14cvOMSvan2"
      },
      "execution_count": null,
      "outputs": []
    },
    {
      "cell_type": "code",
      "source": [
        "ibov['log_retornos'].plot()"
      ],
      "metadata": {
        "id": "rwYXy-5pkrl6"
      },
      "execution_count": null,
      "outputs": []
    },
    {
      "cell_type": "code",
      "source": [
        "ibov['vol_realizada'] = ibov['log_retornos'].rolling(14).std()*((252)**0.5)\n",
        "ibov['vol_realizada']"
      ],
      "metadata": {
        "id": "OTB2AmO-vsRE"
      },
      "execution_count": null,
      "outputs": []
    },
    {
      "cell_type": "code",
      "source": [
        "ibov['vol_realizada'].plot()"
      ],
      "metadata": {
        "id": "ePJn8idtkw_j"
      },
      "execution_count": null,
      "outputs": []
    },
    {
      "cell_type": "markdown",
      "source": [
        "#Prevendo a volatilidade de 1 dia"
      ],
      "metadata": {
        "id": "zb7PphkE8MLr"
      }
    },
    {
      "cell_type": "code",
      "source": [
        "#Função para prever a volatilidade de 1 dia\n",
        "def garch_vol(log_retornos):\n",
        "    # Define model\n",
        "    garch = arch_model(log_retornos, vol='GARCH', p=1, q=1, dist='skewt')\n",
        "\n",
        "    # Fit the model\n",
        "    garch_fit = garch.fit(disp='off')\n",
        "\n",
        "    # Make forecast\n",
        "    prev_var = garch_fit.forecast(horizon=1).variance.values[-1]\n",
        "\n",
        "    # Forecasted volatility\n",
        "    prev_vol = prev_var**0.5\n",
        "\n",
        "    # Calculate and return the annualised forecasted variance\n",
        "    vol_anualizada = prev_vol * (252**0.5)\n",
        "    return vol_anualizada"
      ],
      "metadata": {
        "id": "NMjQ7jknv7iR"
      },
      "execution_count": null,
      "outputs": []
    },
    {
      "cell_type": "code",
      "source": [
        "# Calculate the GARCH predicted volatility for the each day\n",
        "ibov['GARCH_vol_pred'] = ibov['log_retornos'].rolling(252).apply(garch_vol, raw=True)\n",
        "\n",
        "# Shift the GARCH predicted volatility to match with the actual historical volatility on each day\n",
        "ibov['GARCH_vol_pred'] = ibov['GARCH_vol_pred'].shift(1)"
      ],
      "metadata": {
        "id": "MW04yga98KCO"
      },
      "execution_count": null,
      "outputs": []
    },
    {
      "cell_type": "markdown",
      "source": [
        "**Dados com Previsão em tabela**"
      ],
      "metadata": {
        "id": "78pLKayb9Ifj"
      }
    },
    {
      "cell_type": "code",
      "source": [
        "ibov"
      ],
      "metadata": {
        "id": "ftqN9aVg8Y6z"
      },
      "execution_count": null,
      "outputs": []
    },
    {
      "cell_type": "markdown",
      "source": [
        "**Ultimas previsões**"
      ],
      "metadata": {
        "id": "JFcH8_9K9Ptq"
      }
    },
    {
      "cell_type": "code",
      "source": [
        "ibov.tail()"
      ],
      "metadata": {
        "id": "dvk9ns308Zd1"
      },
      "execution_count": null,
      "outputs": []
    },
    {
      "cell_type": "markdown",
      "source": [
        "#Visualisação das previsão vs a realidade"
      ],
      "metadata": {
        "id": "XRQePTKh9SeD"
      }
    },
    {
      "cell_type": "code",
      "source": [
        "fig = go.Figure()\n",
        "fig.add_trace(go.Scatter(name='Vol Realizada', x=ibov.index, y=ibov['vol_realizada']))\n",
        "fig.add_trace(go.Scatter(name='GARCH Model', x=ibov.index, y=ibov['GARCH_vol_pred']))\n",
        "fig.update_layout(title_text='Prevendo Volatilidade IBOV Modelo GARCH', template='plotly_dark')"
      ],
      "metadata": {
        "id": "84vsTKpY9h9F"
      },
      "execution_count": null,
      "outputs": []
    }
  ]
}